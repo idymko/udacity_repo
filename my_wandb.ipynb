{
 "cells": [
  {
   "cell_type": "markdown",
   "metadata": {},
   "source": [
    "Import Weights and Biases"
   ]
  },
  {
   "cell_type": "code",
   "execution_count": 1,
   "metadata": {},
   "outputs": [],
   "source": [
    "import wandb"
   ]
  },
  {
   "cell_type": "code",
   "execution_count": 2,
   "metadata": {},
   "outputs": [],
   "source": [
    "with open(\"my_artifact.txt\", \"w+\") as fp:\n",
    "    fp.write(\"This is an example of an artifact\")"
   ]
  },
  {
   "cell_type": "code",
   "execution_count": 3,
   "metadata": {},
   "outputs": [
    {
     "name": "stdout",
     "output_type": "stream",
     "text": [
      "LICENSE                  \u001b[34mlogging\u001b[m\u001b[m                  results.log\n",
      "README.md                my_argparse.py           simple_clean_code.py\n",
      "\u001b[34m__pycache__\u001b[m\u001b[m              my_artifact.txt          \u001b[34mtesting\u001b[m\u001b[m\n",
      "gift_costs.txt           my_wandb.ipynb           try_except_screencast.py\n",
      "holiday_gifts.py         my_wandb.py\n"
     ]
    }
   ],
   "source": [
    "!ls"
   ]
  },
  {
   "cell_type": "markdown",
   "metadata": {},
   "source": [
    "Upload to W&B"
   ]
  },
  {
   "cell_type": "code",
   "execution_count": 5,
   "metadata": {},
   "outputs": [
    {
     "name": "stderr",
     "output_type": "stream",
     "text": [
      "\u001b[34m\u001b[1mwandb\u001b[0m: Using wandb-core as the SDK backend.  Please refer to https://wandb.me/wandb-core for more information.\n",
      "\u001b[34m\u001b[1mwandb\u001b[0m: Currently logged in as: \u001b[33mdkysylychyn\u001b[0m (\u001b[33mdkysylychyn-udacity\u001b[0m) to \u001b[32mhttps://api.wandb.ai\u001b[0m. Use \u001b[1m`wandb login --relogin`\u001b[0m to force relogin\n"
     ]
    },
    {
     "data": {
      "text/html": [
       "Tracking run with wandb version 0.19.8"
      ],
      "text/plain": [
       "<IPython.core.display.HTML object>"
      ]
     },
     "metadata": {},
     "output_type": "display_data"
    },
    {
     "data": {
      "text/html": [
       "Run data is saved locally in <code>/Users/dkysylychyn/python/MLDevOps/udacity_repo/wandb/run-20250726_162513-uv2azg5k</code>"
      ],
      "text/plain": [
       "<IPython.core.display.HTML object>"
      ]
     },
     "metadata": {},
     "output_type": "display_data"
    },
    {
     "data": {
      "text/html": [
       "Syncing run <strong><a href='https://wandb.ai/dkysylychyn-udacity/demo_artifact_1/runs/uv2azg5k' target=\"_blank\">feasible-leaf-1</a></strong> to <a href='https://wandb.ai/dkysylychyn-udacity/demo_artifact_1' target=\"_blank\">Weights & Biases</a> (<a href='https://wandb.me/developer-guide' target=\"_blank\">docs</a>)<br>"
      ],
      "text/plain": [
       "<IPython.core.display.HTML object>"
      ]
     },
     "metadata": {},
     "output_type": "display_data"
    },
    {
     "data": {
      "text/html": [
       " View project at <a href='https://wandb.ai/dkysylychyn-udacity/demo_artifact_1' target=\"_blank\">https://wandb.ai/dkysylychyn-udacity/demo_artifact_1</a>"
      ],
      "text/plain": [
       "<IPython.core.display.HTML object>"
      ]
     },
     "metadata": {},
     "output_type": "display_data"
    },
    {
     "data": {
      "text/html": [
       " View run at <a href='https://wandb.ai/dkysylychyn-udacity/demo_artifact_1/runs/uv2azg5k' target=\"_blank\">https://wandb.ai/dkysylychyn-udacity/demo_artifact_1/runs/uv2azg5k</a>"
      ],
      "text/plain": [
       "<IPython.core.display.HTML object>"
      ]
     },
     "metadata": {},
     "output_type": "display_data"
    }
   ],
   "source": [
    "run = wandb.init(project=\"demo_artifact_1\",\n",
    "                 group=\"experiment_1\")"
   ]
  },
  {
   "cell_type": "code",
   "execution_count": 7,
   "metadata": {},
   "outputs": [],
   "source": [
    "artifact = wandb.Artifact(name=\"my_artifact.txt\",\n",
    "                          type=\"data\", \n",
    "                          description=\"This is an example of an artifact\",\n",
    "                          metadata={\n",
    "                              \"key_1\": \"value_1\"\n",
    "                              }\n",
    "                          )"
   ]
  },
  {
   "cell_type": "code",
   "execution_count": 8,
   "metadata": {},
   "outputs": [
    {
     "data": {
      "text/plain": [
       "ArtifactManifestEntry(path='my_artifact.txt', digest='bStOq42zZ7Ka3e5ArNjTIg==', size=33, local_path='/Users/dkysylychyn/Library/Application Support/wandb/artifacts/staging/tmpagcn3tk5', skip_cache=False)"
      ]
     },
     "execution_count": 8,
     "metadata": {},
     "output_type": "execute_result"
    }
   ],
   "source": [
    "artifact.add_file(\"my_artifact.txt\") # can be a single file, or a directory"
   ]
  },
  {
   "cell_type": "code",
   "execution_count": 9,
   "metadata": {},
   "outputs": [
    {
     "data": {
      "text/plain": [
       "<Artifact my_artifact.txt>"
      ]
     },
     "execution_count": 9,
     "metadata": {},
     "output_type": "execute_result"
    }
   ],
   "source": [
    "run.log_artifact(artifact)"
   ]
  },
  {
   "cell_type": "code",
   "execution_count": 10,
   "metadata": {},
   "outputs": [
    {
     "data": {
      "text/html": [],
      "text/plain": [
       "<IPython.core.display.HTML object>"
      ]
     },
     "metadata": {},
     "output_type": "display_data"
    },
    {
     "data": {
      "text/html": [
       " View run <strong style=\"color:#cdcd00\">feasible-leaf-1</strong> at: <a href='https://wandb.ai/dkysylychyn-udacity/demo_artifact_1/runs/uv2azg5k' target=\"_blank\">https://wandb.ai/dkysylychyn-udacity/demo_artifact_1/runs/uv2azg5k</a><br> View project at: <a href='https://wandb.ai/dkysylychyn-udacity/demo_artifact_1' target=\"_blank\">https://wandb.ai/dkysylychyn-udacity/demo_artifact_1</a><br>Synced 5 W&B file(s), 0 media file(s), 2 artifact file(s) and 0 other file(s)"
      ],
      "text/plain": [
       "<IPython.core.display.HTML object>"
      ]
     },
     "metadata": {},
     "output_type": "display_data"
    },
    {
     "data": {
      "text/html": [
       "Find logs at: <code>./wandb/run-20250726_162513-uv2azg5k/logs</code>"
      ],
      "text/plain": [
       "<IPython.core.display.HTML object>"
      ]
     },
     "metadata": {},
     "output_type": "display_data"
    }
   ],
   "source": [
    "run.finish()"
   ]
  },
  {
   "cell_type": "markdown",
   "metadata": {},
   "source": [
    "Generate a new verion of artifact "
   ]
  },
  {
   "cell_type": "code",
   "execution_count": 11,
   "metadata": {},
   "outputs": [],
   "source": [
    "with open(\"my_artifact.txt\", \"w+\") as fp:\n",
    "    fp.write(\"This is an example of an artifact that was changed\")"
   ]
  },
  {
   "cell_type": "code",
   "execution_count": 12,
   "metadata": {},
   "outputs": [
    {
     "data": {
      "text/html": [
       "Tracking run with wandb version 0.19.8"
      ],
      "text/plain": [
       "<IPython.core.display.HTML object>"
      ]
     },
     "metadata": {},
     "output_type": "display_data"
    },
    {
     "data": {
      "text/html": [
       "Run data is saved locally in <code>/Users/dkysylychyn/python/MLDevOps/udacity_repo/wandb/run-20250726_163822-5h6c54s6</code>"
      ],
      "text/plain": [
       "<IPython.core.display.HTML object>"
      ]
     },
     "metadata": {},
     "output_type": "display_data"
    },
    {
     "data": {
      "text/html": [
       "Syncing run <strong><a href='https://wandb.ai/dkysylychyn-udacity/demo_artifact_1/runs/5h6c54s6' target=\"_blank\">astral-galaxy-2</a></strong> to <a href='https://wandb.ai/dkysylychyn-udacity/demo_artifact_1' target=\"_blank\">Weights & Biases</a> (<a href='https://wandb.me/developer-guide' target=\"_blank\">docs</a>)<br>"
      ],
      "text/plain": [
       "<IPython.core.display.HTML object>"
      ]
     },
     "metadata": {},
     "output_type": "display_data"
    },
    {
     "data": {
      "text/html": [
       " View project at <a href='https://wandb.ai/dkysylychyn-udacity/demo_artifact_1' target=\"_blank\">https://wandb.ai/dkysylychyn-udacity/demo_artifact_1</a>"
      ],
      "text/plain": [
       "<IPython.core.display.HTML object>"
      ]
     },
     "metadata": {},
     "output_type": "display_data"
    },
    {
     "data": {
      "text/html": [
       " View run at <a href='https://wandb.ai/dkysylychyn-udacity/demo_artifact_1/runs/5h6c54s6' target=\"_blank\">https://wandb.ai/dkysylychyn-udacity/demo_artifact_1/runs/5h6c54s6</a>"
      ],
      "text/plain": [
       "<IPython.core.display.HTML object>"
      ]
     },
     "metadata": {},
     "output_type": "display_data"
    },
    {
     "data": {
      "text/html": [],
      "text/plain": [
       "<IPython.core.display.HTML object>"
      ]
     },
     "metadata": {},
     "output_type": "display_data"
    },
    {
     "data": {
      "text/html": [
       " View run <strong style=\"color:#cdcd00\">astral-galaxy-2</strong> at: <a href='https://wandb.ai/dkysylychyn-udacity/demo_artifact_1/runs/5h6c54s6' target=\"_blank\">https://wandb.ai/dkysylychyn-udacity/demo_artifact_1/runs/5h6c54s6</a><br> View project at: <a href='https://wandb.ai/dkysylychyn-udacity/demo_artifact_1' target=\"_blank\">https://wandb.ai/dkysylychyn-udacity/demo_artifact_1</a><br>Synced 5 W&B file(s), 0 media file(s), 2 artifact file(s) and 0 other file(s)"
      ],
      "text/plain": [
       "<IPython.core.display.HTML object>"
      ]
     },
     "metadata": {},
     "output_type": "display_data"
    },
    {
     "data": {
      "text/html": [
       "Find logs at: <code>./wandb/run-20250726_163822-5h6c54s6/logs</code>"
      ],
      "text/plain": [
       "<IPython.core.display.HTML object>"
      ]
     },
     "metadata": {},
     "output_type": "display_data"
    }
   ],
   "source": [
    "run = wandb.init(project=\"demo_artifact_1\", group=\"experiment_1\")\n",
    "artifact = wandb.Artifact(name=\"my_artifact.txt\",\n",
    "                          type=\"data\", \n",
    "                          description=\"This is an example of an artifact\",\n",
    "                          metadata={\n",
    "                              \"key_1\": \"value_1\"\n",
    "                              }\n",
    "                          )\n",
    "artifact.add_file(\"my_artifact.txt\")\n",
    "run.log_artifact(artifact)\n",
    "run.finish()"
   ]
  },
  {
   "cell_type": "markdown",
   "metadata": {},
   "source": [
    "Re-run the script without changing the artifact -> no new verion should appear on W&B"
   ]
  },
  {
   "cell_type": "code",
   "execution_count": 13,
   "metadata": {},
   "outputs": [
    {
     "data": {
      "text/html": [
       "Tracking run with wandb version 0.19.8"
      ],
      "text/plain": [
       "<IPython.core.display.HTML object>"
      ]
     },
     "metadata": {},
     "output_type": "display_data"
    },
    {
     "data": {
      "text/html": [
       "Run data is saved locally in <code>/Users/dkysylychyn/python/MLDevOps/udacity_repo/wandb/run-20250726_164134-20kud8h3</code>"
      ],
      "text/plain": [
       "<IPython.core.display.HTML object>"
      ]
     },
     "metadata": {},
     "output_type": "display_data"
    },
    {
     "data": {
      "text/html": [
       "Syncing run <strong><a href='https://wandb.ai/dkysylychyn-udacity/demo_artifact_1/runs/20kud8h3' target=\"_blank\">dry-gorge-3</a></strong> to <a href='https://wandb.ai/dkysylychyn-udacity/demo_artifact_1' target=\"_blank\">Weights & Biases</a> (<a href='https://wandb.me/developer-guide' target=\"_blank\">docs</a>)<br>"
      ],
      "text/plain": [
       "<IPython.core.display.HTML object>"
      ]
     },
     "metadata": {},
     "output_type": "display_data"
    },
    {
     "data": {
      "text/html": [
       " View project at <a href='https://wandb.ai/dkysylychyn-udacity/demo_artifact_1' target=\"_blank\">https://wandb.ai/dkysylychyn-udacity/demo_artifact_1</a>"
      ],
      "text/plain": [
       "<IPython.core.display.HTML object>"
      ]
     },
     "metadata": {},
     "output_type": "display_data"
    },
    {
     "data": {
      "text/html": [
       " View run at <a href='https://wandb.ai/dkysylychyn-udacity/demo_artifact_1/runs/20kud8h3' target=\"_blank\">https://wandb.ai/dkysylychyn-udacity/demo_artifact_1/runs/20kud8h3</a>"
      ],
      "text/plain": [
       "<IPython.core.display.HTML object>"
      ]
     },
     "metadata": {},
     "output_type": "display_data"
    },
    {
     "data": {
      "text/html": [],
      "text/plain": [
       "<IPython.core.display.HTML object>"
      ]
     },
     "metadata": {},
     "output_type": "display_data"
    },
    {
     "data": {
      "text/html": [
       " View run <strong style=\"color:#cdcd00\">dry-gorge-3</strong> at: <a href='https://wandb.ai/dkysylychyn-udacity/demo_artifact_1/runs/20kud8h3' target=\"_blank\">https://wandb.ai/dkysylychyn-udacity/demo_artifact_1/runs/20kud8h3</a><br> View project at: <a href='https://wandb.ai/dkysylychyn-udacity/demo_artifact_1' target=\"_blank\">https://wandb.ai/dkysylychyn-udacity/demo_artifact_1</a><br>Synced 5 W&B file(s), 0 media file(s), 0 artifact file(s) and 0 other file(s)"
      ],
      "text/plain": [
       "<IPython.core.display.HTML object>"
      ]
     },
     "metadata": {},
     "output_type": "display_data"
    },
    {
     "data": {
      "text/html": [
       "Find logs at: <code>./wandb/run-20250726_164134-20kud8h3/logs</code>"
      ],
      "text/plain": [
       "<IPython.core.display.HTML object>"
      ]
     },
     "metadata": {},
     "output_type": "display_data"
    }
   ],
   "source": [
    "with open(\"my_artifact.txt\", \"w+\") as fp:\n",
    "    fp.write(\"This is an example of an artifact that was changed\")\n",
    "    \n",
    "run = wandb.init(project=\"demo_artifact_1\", group=\"experiment_1\")\n",
    "\n",
    "artifact = wandb.Artifact(name=\"my_artifact.txt\",\n",
    "                          type=\"data\", \n",
    "                          description=\"This is an example of an artifact\",\n",
    "                          metadata={\n",
    "                              \"key_1\": \"value_1\"\n",
    "                              }\n",
    "                          )\n",
    "artifact.add_file(\"my_artifact.txt\")\n",
    "run.log_artifact(artifact)\n",
    "run.finish()"
   ]
  },
  {
   "cell_type": "markdown",
   "metadata": {},
   "source": [
    "Use runs with context managers (e.g. hyperparamter optimization)"
   ]
  },
  {
   "cell_type": "code",
   "execution_count": 14,
   "metadata": {},
   "outputs": [
    {
     "data": {
      "text/html": [
       "Tracking run with wandb version 0.19.8"
      ],
      "text/plain": [
       "<IPython.core.display.HTML object>"
      ]
     },
     "metadata": {},
     "output_type": "display_data"
    },
    {
     "data": {
      "text/html": [
       "Run data is saved locally in <code>/Users/dkysylychyn/python/MLDevOps/udacity_repo/wandb/run-20250726_164900-q0p0s2da</code>"
      ],
      "text/plain": [
       "<IPython.core.display.HTML object>"
      ]
     },
     "metadata": {},
     "output_type": "display_data"
    },
    {
     "data": {
      "text/html": [
       "Syncing run <strong><a href='https://wandb.ai/dkysylychyn-udacity/multiple_runs/runs/q0p0s2da' target=\"_blank\">frosty-cloud-1</a></strong> to <a href='https://wandb.ai/dkysylychyn-udacity/multiple_runs' target=\"_blank\">Weights & Biases</a> (<a href='https://wandb.me/developer-guide' target=\"_blank\">docs</a>)<br>"
      ],
      "text/plain": [
       "<IPython.core.display.HTML object>"
      ]
     },
     "metadata": {},
     "output_type": "display_data"
    },
    {
     "data": {
      "text/html": [
       " View project at <a href='https://wandb.ai/dkysylychyn-udacity/multiple_runs' target=\"_blank\">https://wandb.ai/dkysylychyn-udacity/multiple_runs</a>"
      ],
      "text/plain": [
       "<IPython.core.display.HTML object>"
      ]
     },
     "metadata": {},
     "output_type": "display_data"
    },
    {
     "data": {
      "text/html": [
       " View run at <a href='https://wandb.ai/dkysylychyn-udacity/multiple_runs/runs/q0p0s2da' target=\"_blank\">https://wandb.ai/dkysylychyn-udacity/multiple_runs/runs/q0p0s2da</a>"
      ],
      "text/plain": [
       "<IPython.core.display.HTML object>"
      ]
     },
     "metadata": {},
     "output_type": "display_data"
    },
    {
     "data": {
      "text/html": [],
      "text/plain": [
       "<IPython.core.display.HTML object>"
      ]
     },
     "metadata": {},
     "output_type": "display_data"
    },
    {
     "data": {
      "text/html": [
       " View run <strong style=\"color:#cdcd00\">frosty-cloud-1</strong> at: <a href='https://wandb.ai/dkysylychyn-udacity/multiple_runs/runs/q0p0s2da' target=\"_blank\">https://wandb.ai/dkysylychyn-udacity/multiple_runs/runs/q0p0s2da</a><br> View project at: <a href='https://wandb.ai/dkysylychyn-udacity/multiple_runs' target=\"_blank\">https://wandb.ai/dkysylychyn-udacity/multiple_runs</a><br>Synced 5 W&B file(s), 0 media file(s), 0 artifact file(s) and 0 other file(s)"
      ],
      "text/plain": [
       "<IPython.core.display.HTML object>"
      ]
     },
     "metadata": {},
     "output_type": "display_data"
    },
    {
     "data": {
      "text/html": [
       "Find logs at: <code>./wandb/run-20250726_164900-q0p0s2da/logs</code>"
      ],
      "text/plain": [
       "<IPython.core.display.HTML object>"
      ]
     },
     "metadata": {},
     "output_type": "display_data"
    }
   ],
   "source": [
    "# run will be closed at end of with statement\n",
    "with wandb.init(project=\"multiple_runs\") as run:\n",
    "    artifact = wandb.Artifact(name=\"my_artifact.txt\",\n",
    "                          type=\"data\", \n",
    "                          description=\"This is an example of an artifact\",\n",
    "                          metadata={\n",
    "                              \"key_1\": \"value_1\"\n",
    "                              }\n",
    "                          )\n",
    "    artifact.add_file(\"my_artifact.txt\")"
   ]
  },
  {
   "cell_type": "code",
   "execution_count": null,
   "metadata": {},
   "outputs": [],
   "source": []
  }
 ],
 "metadata": {
  "kernelspec": {
   "display_name": "udacity",
   "language": "python",
   "name": "python3"
  },
  "language_info": {
   "codemirror_mode": {
    "name": "ipython",
    "version": 3
   },
   "file_extension": ".py",
   "mimetype": "text/x-python",
   "name": "python",
   "nbconvert_exporter": "python",
   "pygments_lexer": "ipython3",
   "version": "3.8.20"
  }
 },
 "nbformat": 4,
 "nbformat_minor": 2
}
