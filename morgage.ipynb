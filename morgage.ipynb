{
 "cells": [
  {
   "cell_type": "code",
   "execution_count": 3,
   "id": "2ca2506e",
   "metadata": {},
   "outputs": [],
   "source": [
    "import pandas as pd\n",
    "import numpy as np"
   ]
  },
  {
   "cell_type": "code",
   "execution_count": 4,
   "id": "4688c8be",
   "metadata": {},
   "outputs": [
    {
     "name": "stdout",
     "output_type": "stream",
     "text": [
      "kaufpreis\t 533000.0\n",
      "eigenkapital\t 150000.0\n",
      "nebenkosten\t 71046\n",
      "darlehen\t 454046.0\n",
      "zinsensumme\t 106095.0\n",
      "zinsen+neben\t 177141.0\n",
      "      Jahr  Rate (€)  Zinsen (€)  Tilgung (€)  Restschuld (€)\n",
      "0     0.08   3499.94     1229.71      2270.23       451775.77\n",
      "1     0.17   3499.94     1223.56      2276.38       449499.39\n",
      "2     0.25   3499.94     1217.39      2282.54       447216.85\n",
      "3     0.33   3499.94     1211.21      2288.73       444928.12\n",
      "4     0.42   3499.94     1205.01      2294.92       442633.20\n",
      "..     ...       ...         ...          ...             ...\n",
      "156  13.08   3499.94       38.06      3461.87        10592.52\n",
      "157  13.17   3499.94       28.69      3471.25         7121.27\n",
      "158  13.25   3499.94       19.29      3480.65         3640.62\n",
      "159  13.33   3499.94        9.86      3490.08          150.54\n",
      "160  13.42   3499.94        0.41      3499.53        -3348.99\n",
      "\n",
      "[161 rows x 5 columns]\n"
     ]
    }
   ],
   "source": [
    "# Kreditdaten\n",
    "kaufpreis = 533e3\n",
    "eigenkapital = 150e3\n",
    "nebenkosten = 71046 # kaufpreis*0.1\n",
    "print(f\"kaufpreis\\t {kaufpreis}\")\n",
    "print(f\"eigenkapital\\t {eigenkapital}\")\n",
    "print(f\"nebenkosten\\t {nebenkosten}\")\n",
    "\n",
    "darlehen = (kaufpreis+nebenkosten-eigenkapital)\n",
    "print(f\"darlehen\\t {darlehen}\")\n",
    "zinssatz = 0.0325  # 3% p.a.\n",
    "anfangstilgung = 0.06  # 2% p.a.\n",
    "\n",
    "# Annuität berechnen (Jahresrate)\n",
    "jahresrate = darlehen * (zinssatz + anfangstilgung)\n",
    "monatsrate = jahresrate / 12\n",
    "\n",
    "daten = []\n",
    "restschuld = darlehen\n",
    "\n",
    "for monat in range(1, 30*12):\n",
    "    # Zinsanteil (auf Restschuld)\n",
    "    zinsen = restschuld * zinssatz / 12\n",
    "    tilgung = monatsrate - zinsen\n",
    "    restschuld -= tilgung\n",
    "    \n",
    "    daten.append({\n",
    "        \"Jahr\": np.round(monat/12,2),\n",
    "        \"Rate (€)\": round(monatsrate, 2),\n",
    "        \"Zinsen (€)\": round(zinsen, 2),\n",
    "        \"Tilgung (€)\": round(tilgung, 2),\n",
    "        \"Restschuld (€)\": round(restschuld, 2)\n",
    "    })\n",
    "    \n",
    "    if restschuld<0:\n",
    "        break\n",
    "    \n",
    "df = pd.DataFrame(daten)\n",
    "zinsensumme = df['Zinsen (€)'].sum().round(0)\n",
    "print(f\"zinsensumme\\t {zinsensumme}\")\n",
    "print(f\"zinsen+neben\\t {zinsensumme+nebenkosten}\")\n",
    "print(df)"
   ]
  }
 ],
 "metadata": {
  "kernelspec": {
   "display_name": "udacity",
   "language": "python",
   "name": "python3"
  },
  "language_info": {
   "codemirror_mode": {
    "name": "ipython",
    "version": 3
   },
   "file_extension": ".py",
   "mimetype": "text/x-python",
   "name": "python",
   "nbconvert_exporter": "python",
   "pygments_lexer": "ipython3",
   "version": "3.8.20"
  }
 },
 "nbformat": 4,
 "nbformat_minor": 5
}
