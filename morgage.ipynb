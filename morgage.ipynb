{
 "cells": [
  {
   "cell_type": "code",
   "execution_count": null,
   "id": "4688c8be",
   "metadata": {},
   "outputs": [],
   "source": [
    "import pandas as pd\n",
    "import numpy as np\n",
    "\n",
    "# Kreditdaten\n",
    "kaufpreis = 533e3\n",
    "eigenkapital = 150e3\n",
    "nebenkosten = 71046 # kaufpreis*0.1\n",
    "print(f\"kaufpreis\\t {kaufpreis}\")\n",
    "print(f\"eigenkapital\\t {eigenkapital}\")\n",
    "print(f\"nebenkosten\\t {nebenkosten}\")\n",
    "\n",
    "darlehen = (kaufpreis+nebenkosten-eigenkapital)\n",
    "print(f\"darlehen\\t {darlehen}\")\n",
    "zinssatz = 0.0325  # 3% p.a.\n",
    "anfangstilgung = 0.06  # 2% p.a.\n",
    "\n",
    "# Annuität berechnen (Jahresrate)\n",
    "jahresrate = darlehen * (zinssatz + anfangstilgung)\n",
    "monatsrate = jahresrate / 12\n",
    "\n",
    "daten = []\n",
    "restschuld = darlehen\n",
    "\n",
    "for monat in range(1, 30*12):\n",
    "    # Zinsanteil (auf Restschuld)\n",
    "    zinsen = restschuld * zinssatz / 12\n",
    "    tilgung = monatsrate - zinsen\n",
    "    restschuld -= tilgung\n",
    "    \n",
    "    daten.append({\n",
    "        \"Jahr\": np.round(monat/12,2),\n",
    "        \"Rate (€)\": round(monatsrate, 2),\n",
    "        \"Zinsen (€)\": round(zinsen, 2),\n",
    "        \"Tilgung (€)\": round(tilgung, 2),\n",
    "        \"Restschuld (€)\": round(restschuld, 2)\n",
    "    })\n",
    "    \n",
    "    if restschuld<0:\n",
    "        break\n",
    "    \n",
    "df = pd.DataFrame(daten)\n",
    "zinsensumme = df['Zinsen (€)'].sum().round(0)\n",
    "print(f\"zinsensumme\\t {zinsensumme}\")\n",
    "print(f\"zinsen+neben\\t {zinsensumme+nebenkosten}\")\n",
    "print(df)"
   ]
  }
 ],
 "metadata": {
  "language_info": {
   "name": "python"
  }
 },
 "nbformat": 4,
 "nbformat_minor": 5
}
